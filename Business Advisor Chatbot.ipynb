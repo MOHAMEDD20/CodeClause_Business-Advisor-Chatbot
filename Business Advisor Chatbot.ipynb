{
 "cells": [
  {
   "cell_type": "markdown",
   "id": "62458556",
   "metadata": {},
   "source": [
    "# Business Advisor Chatbot"
   ]
  },
  {
   "cell_type": "code",
   "execution_count": 3,
   "id": "c6399f63",
   "metadata": {},
   "outputs": [
    {
     "name": "stdout",
     "output_type": "stream",
     "text": [
      "Requirement already satisfied: nltk in /home/mohammedessam/anaconda3/lib/python3.9/site-packages (3.6.5)\n",
      "Requirement already satisfied: click in /home/mohammedessam/anaconda3/lib/python3.9/site-packages (from nltk) (8.0.3)\n",
      "Requirement already satisfied: joblib in /home/mohammedessam/anaconda3/lib/python3.9/site-packages (from nltk) (1.1.0)\n",
      "Requirement already satisfied: regex>=2021.8.3 in /home/mohammedessam/anaconda3/lib/python3.9/site-packages (from nltk) (2021.8.3)\n",
      "Requirement already satisfied: tqdm in /home/mohammedessam/anaconda3/lib/python3.9/site-packages (from nltk) (4.62.3)\n",
      "Note: you may need to restart the kernel to use updated packages.\n"
     ]
    }
   ],
   "source": [
    "pip install nltk"
   ]
  },
  {
   "cell_type": "code",
   "execution_count": 4,
   "id": "23579f6a",
   "metadata": {},
   "outputs": [
    {
     "name": "stdout",
     "output_type": "stream",
     "text": [
      "Requirement already satisfied: newspaper3k in /home/mohammedessam/anaconda3/lib/python3.9/site-packages (0.2.8)\n",
      "Requirement already satisfied: lxml>=3.6.0 in /home/mohammedessam/anaconda3/lib/python3.9/site-packages (from newspaper3k) (4.6.3)\n",
      "Requirement already satisfied: tinysegmenter==0.3 in /home/mohammedessam/anaconda3/lib/python3.9/site-packages (from newspaper3k) (0.3)\n",
      "Requirement already satisfied: PyYAML>=3.11 in /home/mohammedessam/anaconda3/lib/python3.9/site-packages (from newspaper3k) (6.0)\n",
      "Requirement already satisfied: feedfinder2>=0.0.4 in /home/mohammedessam/anaconda3/lib/python3.9/site-packages (from newspaper3k) (0.0.4)\n",
      "Requirement already satisfied: feedparser>=5.2.1 in /home/mohammedessam/anaconda3/lib/python3.9/site-packages (from newspaper3k) (6.0.10)\n",
      "Requirement already satisfied: python-dateutil>=2.5.3 in /home/mohammedessam/anaconda3/lib/python3.9/site-packages (from newspaper3k) (2.8.2)\n",
      "Requirement already satisfied: tldextract>=2.0.1 in /home/mohammedessam/anaconda3/lib/python3.9/site-packages (from newspaper3k) (3.4.0)\n",
      "Requirement already satisfied: requests>=2.10.0 in /home/mohammedessam/anaconda3/lib/python3.9/site-packages (from newspaper3k) (2.26.0)\n",
      "Requirement already satisfied: Pillow>=3.3.0 in /home/mohammedessam/anaconda3/lib/python3.9/site-packages (from newspaper3k) (8.4.0)\n",
      "Requirement already satisfied: cssselect>=0.9.2 in /home/mohammedessam/anaconda3/lib/python3.9/site-packages (from newspaper3k) (1.1.0)\n",
      "Requirement already satisfied: beautifulsoup4>=4.4.1 in /home/mohammedessam/anaconda3/lib/python3.9/site-packages (from newspaper3k) (4.10.0)\n",
      "Requirement already satisfied: jieba3k>=0.35.1 in /home/mohammedessam/anaconda3/lib/python3.9/site-packages (from newspaper3k) (0.35.1)\n",
      "Requirement already satisfied: nltk>=3.2.1 in /home/mohammedessam/anaconda3/lib/python3.9/site-packages (from newspaper3k) (3.6.5)\n",
      "Requirement already satisfied: soupsieve>1.2 in /home/mohammedessam/anaconda3/lib/python3.9/site-packages (from beautifulsoup4>=4.4.1->newspaper3k) (2.2.1)\n",
      "Requirement already satisfied: six in /home/mohammedessam/anaconda3/lib/python3.9/site-packages (from feedfinder2>=0.0.4->newspaper3k) (1.16.0)\n",
      "Requirement already satisfied: sgmllib3k in /home/mohammedessam/anaconda3/lib/python3.9/site-packages (from feedparser>=5.2.1->newspaper3k) (1.0.0)\n",
      "Requirement already satisfied: click in /home/mohammedessam/anaconda3/lib/python3.9/site-packages (from nltk>=3.2.1->newspaper3k) (8.0.3)\n",
      "Requirement already satisfied: joblib in /home/mohammedessam/anaconda3/lib/python3.9/site-packages (from nltk>=3.2.1->newspaper3k) (1.1.0)\n",
      "Requirement already satisfied: regex>=2021.8.3 in /home/mohammedessam/anaconda3/lib/python3.9/site-packages (from nltk>=3.2.1->newspaper3k) (2021.8.3)\n",
      "Requirement already satisfied: tqdm in /home/mohammedessam/anaconda3/lib/python3.9/site-packages (from nltk>=3.2.1->newspaper3k) (4.62.3)\n",
      "Requirement already satisfied: urllib3<1.27,>=1.21.1 in /home/mohammedessam/anaconda3/lib/python3.9/site-packages (from requests>=2.10.0->newspaper3k) (1.26.7)\n",
      "Requirement already satisfied: idna<4,>=2.5 in /home/mohammedessam/anaconda3/lib/python3.9/site-packages (from requests>=2.10.0->newspaper3k) (3.2)\n",
      "Requirement already satisfied: charset-normalizer~=2.0.0 in /home/mohammedessam/anaconda3/lib/python3.9/site-packages (from requests>=2.10.0->newspaper3k) (2.0.4)\n",
      "Requirement already satisfied: certifi>=2017.4.17 in /home/mohammedessam/anaconda3/lib/python3.9/site-packages (from requests>=2.10.0->newspaper3k) (2021.10.8)\n",
      "Requirement already satisfied: filelock>=3.0.8 in /home/mohammedessam/anaconda3/lib/python3.9/site-packages (from tldextract>=2.0.1->newspaper3k) (3.3.1)\n",
      "Requirement already satisfied: requests-file>=1.4 in /home/mohammedessam/anaconda3/lib/python3.9/site-packages (from tldextract>=2.0.1->newspaper3k) (1.5.1)\n",
      "Note: you may need to restart the kernel to use updated packages.\n"
     ]
    }
   ],
   "source": [
    "pip install newspaper3k"
   ]
  },
  {
   "cell_type": "code",
   "execution_count": 9,
   "id": "ac79345d",
   "metadata": {},
   "outputs": [],
   "source": [
    "#import libraries \n",
    "from newspaper import Article \n",
    "import random \n",
    "import nltk\n",
    "import string \n",
    "from sklearn.feature_extraction.text import CountVectorizer \n",
    "from sklearn.metrics.pairwise import cosine_similarity\n",
    "import numpy as np \n",
    "import warnings \n",
    "warnings.filterwarnings('ignore')"
   ]
  },
  {
   "cell_type": "code",
   "execution_count": 10,
   "id": "248f4c13",
   "metadata": {},
   "outputs": [
    {
     "data": {
      "text/plain": [
       "True"
      ]
     },
     "execution_count": 10,
     "metadata": {},
     "output_type": "execute_result"
    }
   ],
   "source": [
    "#download the punkt package \n",
    "nltk.download('punkt', quiet=True)"
   ]
  },
  {
   "cell_type": "code",
   "execution_count": 13,
   "id": "a0f37257",
   "metadata": {},
   "outputs": [],
   "source": [
    "article = Article('https://www.grantthornton.in/en/services/growth/business-consulting/')\n",
    "article.download()\n",
    "article.parse()\n",
    "article.nlp()\n",
    "corpus = article.text"
   ]
  },
  {
   "cell_type": "code",
   "execution_count": 14,
   "id": "f778afe0",
   "metadata": {},
   "outputs": [
    {
     "name": "stdout",
     "output_type": "stream",
     "text": [
      "The country’s eased regulatory scenario and improved ease of doing are increasingly offering opportunities to businesses to grow. We are engaged by family-owned businesses, private equity and venture capital funded businesses, widely-held companies and other organisations to assist them in developing and delivering strategic direction to the business.\n",
      "\n",
      "We offer a bouquet of fully integrated strategic advisory services. Our extensive experience and in-depth knowledge combined with our collaborative approach helps dynamic businesses to grow.\n",
      "\n",
      "Some of our key business consulting services include:\n",
      "\n",
      "Strategy planning and implementation: These services are aimed at assisting the top management of an organisation in deciding the strategic direction and ensuring their functional heads buy into the vision of the organisation. We do this through the following:\n",
      "\n",
      "CEO Room: It includes a strategic workshop customised to the client’s current business, operating model, geographic coverage, financial performance and competition. The workshop effectively leads to the preparation of a strategy map for the client. Once the strategy map is developed, our team facilitates the buy-in of the functional heads of the organisation given that these people ‘deliver’ the top management’s vision. Strategy action plans: Basis the strategy map developed in the workshop, our team collaborates with each functional team over a series of sessions to develop their functional strategy.\n",
      "\n",
      "Market assessments and competition landscaping: We help businesses become more aware of their market, operating landscape, competition and own positioning. Our business consulting services typically include market size (volume and value), growth (historical and projected), demand-supply gap analysis, price point analysis, value chain, competitor analysis, drivers/challenges and trends, relevant models showing the business strengths and positioning, etc.\n",
      "\n",
      "Business planning: We develop comprehensive financial projections through detailed financial models covering a period of 3-5 years based on detailed assumptions and management discussions. The assumptions cover the detailed market scenario, operating model, regulatory aspects, pricing and margins basis competition, supply chain model, fixed and variable expenses etc.\n",
      "\n",
      "Commercial due diligence: Companies preparing for a transaction or currently in an ongoing transaction need an analysis of the market and competition, supply chain and validation of the future projections of the business basis the management model, customer interviews, competition and market assessment. Along with these analysis, we also provide a reasonability assessment on the financial projections by the management along with a detailed report, which can be used by investors and financial institutions to formulate their view on the transaction.\n",
      "\n",
      "Annual operating plan (AOP): Our specialist team assists companies in preparing detailed AOPs and budgets from a bottom-up perspective. It spans across departments and covers complex modelling and validation exercises across levels — plant and machinery level, sales and marketing, HR, IT, etc. It also includes detailed workshops to kick off and set common top-down and bottom-up objectives.\n",
      "\n",
      "These AOPs are backed by detailed bottom-up functional level strategy action plans. We also undertake quarterly monitoring against the AOPs developed.\n",
      "\n",
      "Working capital optimisation: Our team can assess the opportunity of potential savings in working capital by optimising structural and operational processes, directly impacting working capital. This results in medium to long term sustainable savings rather than focusing on tactical levers to meet short-term goals. Key coverage includes:\n"
     ]
    }
   ],
   "source": [
    "#print the articles text \n",
    "print(corpus)"
   ]
  },
  {
   "cell_type": "code",
   "execution_count": 15,
   "id": "21ab85e8",
   "metadata": {},
   "outputs": [],
   "source": [
    "# Tokenization \n",
    "text = corpus \n",
    "sentence_list = nltk.sent_tokenize(text)"
   ]
  },
  {
   "cell_type": "code",
   "execution_count": 16,
   "id": "7fd91395",
   "metadata": {},
   "outputs": [
    {
     "name": "stdout",
     "output_type": "stream",
     "text": [
      "['The country’s eased regulatory scenario and improved ease of doing are increasingly offering opportunities to businesses to grow.', 'We are engaged by family-owned businesses, private equity and venture capital funded businesses, widely-held companies and other organisations to assist them in developing and delivering strategic direction to the business.', 'We offer a bouquet of fully integrated strategic advisory services.', 'Our extensive experience and in-depth knowledge combined with our collaborative approach helps dynamic businesses to grow.', 'Some of our key business consulting services include:\\n\\nStrategy planning and implementation: These services are aimed at assisting the top management of an organisation in deciding the strategic direction and ensuring their functional heads buy into the vision of the organisation.', 'We do this through the following:\\n\\nCEO Room: It includes a strategic workshop customised to the client’s current business, operating model, geographic coverage, financial performance and competition.', 'The workshop effectively leads to the preparation of a strategy map for the client.', 'Once the strategy map is developed, our team facilitates the buy-in of the functional heads of the organisation given that these people ‘deliver’ the top management’s vision.', 'Strategy action plans: Basis the strategy map developed in the workshop, our team collaborates with each functional team over a series of sessions to develop their functional strategy.', 'Market assessments and competition landscaping: We help businesses become more aware of their market, operating landscape, competition and own positioning.', 'Our business consulting services typically include market size (volume and value), growth (historical and projected), demand-supply gap analysis, price point analysis, value chain, competitor analysis, drivers/challenges and trends, relevant models showing the business strengths and positioning, etc.', 'Business planning: We develop comprehensive financial projections through detailed financial models covering a period of 3-5 years based on detailed assumptions and management discussions.', 'The assumptions cover the detailed market scenario, operating model, regulatory aspects, pricing and margins basis competition, supply chain model, fixed and variable expenses etc.', 'Commercial due diligence: Companies preparing for a transaction or currently in an ongoing transaction need an analysis of the market and competition, supply chain and validation of the future projections of the business basis the management model, customer interviews, competition and market assessment.', 'Along with these analysis, we also provide a reasonability assessment on the financial projections by the management along with a detailed report, which can be used by investors and financial institutions to formulate their view on the transaction.', 'Annual operating plan (AOP): Our specialist team assists companies in preparing detailed AOPs and budgets from a bottom-up perspective.', 'It spans across departments and covers complex modelling and validation exercises across levels — plant and machinery level, sales and marketing, HR, IT, etc.', 'It also includes detailed workshops to kick off and set common top-down and bottom-up objectives.', 'These AOPs are backed by detailed bottom-up functional level strategy action plans.', 'We also undertake quarterly monitoring against the AOPs developed.', 'Working capital optimisation: Our team can assess the opportunity of potential savings in working capital by optimising structural and operational processes, directly impacting working capital.', 'This results in medium to long term sustainable savings rather than focusing on tactical levers to meet short-term goals.', 'Key coverage includes:']\n"
     ]
    }
   ],
   "source": [
    "#print the list of sentences \n",
    "print(sentence_list)"
   ]
  },
  {
   "cell_type": "code",
   "execution_count": 24,
   "id": "d084764c",
   "metadata": {},
   "outputs": [],
   "source": [
    "# A function to return simple greeting response to the users greeting \n",
    "def greeting_respose(text):\n",
    "    text = text.lower()\n",
    "    \n",
    "    #Bots greeting response \n",
    "    bot_greeting = ['howdy' , 'hi', 'hey', 'hello', 'hola','salut']\n",
    "    \n",
    "    #user greeting\n",
    "    users_greeting = [\"hi\", \"hello\", \"hey\", \"helloo\", \"hellooo\", \"g morining\", \"gmorning\", \"good morning\", \"morning\", \"good day\", \"good afternoon\", \"good evening\", \"greetings\", \"greeting\", \"good to see you\", \"its good seeing you\", \"how are you\", \"how're you\", \"how are you doing\", \"how ya doin'\", \"how ya doin\", \"how is everything\", \"how is everything going\", \"how's everything going\", \"how is you\", \"how's you\", \"how are things\", \"how're things\", \"how is it going\", \"how's it going\", \"how's it goin'\", \"how's it goin\", \"how is life been treating you\", \"how's life been treating you\", \"how have you been\", \"how've you been\", \"what is up\", \"what's up\"]\n",
    "    for word in text.split():\n",
    "        for word in users_greeting:\n",
    "            return random.choice(bot_greeting)"
   ]
  },
  {
   "cell_type": "code",
   "execution_count": 25,
   "id": "f2297049",
   "metadata": {},
   "outputs": [],
   "source": [
    "def index_sort(list_var):\n",
    "    length = len(list_var)\n",
    "    list_index = list(range(0,length))\n",
    "    \n",
    "    x = list_var\n",
    "    for i in range(length):\n",
    "        for j in range(length):\n",
    "            if x[list_index[i]] > x[list_index[j]]:\n",
    "                temp = list_index[i]\n",
    "                list_index[i] = list_index[j]\n",
    "                list_index[j] = temp               \n",
    "                \n",
    "    return list_index"
   ]
  },
  {
   "cell_type": "code",
   "execution_count": 26,
   "id": "bf536998",
   "metadata": {},
   "outputs": [],
   "source": [
    "#create the bots response \n",
    "def bot_response(user_input):\n",
    "    user_input= user_input.lower()\n",
    "    sentence_list.append(user_input)\n",
    "    bot_response =''\n",
    "    cm = CountVectorizer().fit_transform(sentence_list)\n",
    "    similarity_scores = cosine_similarity(cm[-1],cm)\n",
    "    similarity_scores_list = similarity_scores.flatten()\n",
    "    index = index_sort(similarity_scores_list)\n",
    "    index = index [1:]\n",
    "    response_flag = 0\n",
    "    j = 0\n",
    "    for i in range(len(index)) :\n",
    "        if similarity_scores_list[index[i]] > 0.0 :\n",
    "            bot_response = bot_response +' '+sentence_list[index[i]]\n",
    "            response_flag = 1\n",
    "            j = j+1\n",
    "        if j > 2 :\n",
    "            break \n",
    "            \n",
    "    if response_flag == 0 :\n",
    "        bot_response = bot_response+'  '+\"sorry, I don't understand\""
   ]
  },
  {
   "cell_type": "code",
   "execution_count": null,
   "id": "14685893",
   "metadata": {},
   "outputs": [],
   "source": [
    "#start the chat \n",
    "print('CodeClause Bot : I am your business advisor for short.')\n",
    "\n",
    "exit_list = ['exist', 'see you later','bye', 'quit', 'break']\n",
    "\n",
    "while True :\n",
    "    user_input = input()\n",
    "    if user_input.lower() in exit_list :\n",
    "        print('CodeClause Bot: Chat with u later !')\n",
    "        break\n",
    "    else:\n",
    "        if greeting_respose(user_input) != None :\n",
    "            print('CodeClause Bot '+greeting_respose(user_input))\n",
    "        else:\n",
    "            print('CodeClause Bot '+bot_respose(user_input))"
   ]
  },
  {
   "cell_type": "code",
   "execution_count": null,
   "id": "003c0a65",
   "metadata": {},
   "outputs": [],
   "source": []
  },
  {
   "cell_type": "code",
   "execution_count": null,
   "id": "255ee241",
   "metadata": {},
   "outputs": [],
   "source": []
  }
 ],
 "metadata": {
  "kernelspec": {
   "display_name": "Python 3 (ipykernel)",
   "language": "python",
   "name": "python3"
  },
  "language_info": {
   "codemirror_mode": {
    "name": "ipython",
    "version": 3
   },
   "file_extension": ".py",
   "mimetype": "text/x-python",
   "name": "python",
   "nbconvert_exporter": "python",
   "pygments_lexer": "ipython3",
   "version": "3.9.7"
  }
 },
 "nbformat": 4,
 "nbformat_minor": 5
}
